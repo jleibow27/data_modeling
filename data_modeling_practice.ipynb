{
 "cells": [
  {
   "cell_type": "code",
   "execution_count": 180,
   "metadata": {},
   "outputs": [],
   "source": [
    "import numpy as np\n",
    "import pandas as pd\n",
    "import matplotlib.pyplot as plt"
   ]
  },
  {
   "cell_type": "code",
   "execution_count": null,
   "metadata": {},
   "outputs": [],
   "source": [
    "guido.birth_place = Country(name='Netherlands')"
   ]
  },
  {
   "cell_type": "code",
   "execution_count": 307,
   "metadata": {},
   "outputs": [],
   "source": [
    "class Clock:\n",
    "    def __init__(self, name, style, mechanism):\n",
    "        self.name = name\n",
    "        self.style = style\n",
    "        self.mechanism = mechanism\n",
    "        \n",
    "    def tic_toc(self):\n",
    "        print(f\"Tic-toc, Tic-toc goes the clock. This here is {self.name}'s {self.style}.\")\n",
    "        \n",
    "    def wound(self):\n",
    "        if self.mechanism:\n",
    "            self.mechanism = mechanism('Pendulum') # or 'Fly wheel')\n",
    "            print(f\"When {self.name}'s {self.style} stops ticking, then the clock must be re-wound.\")\n",
    "        else:\n",
    "            print(f\"When {self.name}'s {self.style} stops ticking, then the battery must be replaced.\")"
   ]
  },
  {
   "cell_type": "code",
   "execution_count": 308,
   "metadata": {},
   "outputs": [],
   "source": [
    "# Instantiate Donald's cuckoo clock\n",
    "donald = Clock('Donald', 'Cuckoo Clock', 'Pendulum')"
   ]
  },
  {
   "cell_type": "code",
   "execution_count": 309,
   "metadata": {},
   "outputs": [
    {
     "data": {
      "text/plain": [
       "__main__.Clock"
      ]
     },
     "execution_count": 309,
     "metadata": {},
     "output_type": "execute_result"
    }
   ],
   "source": [
    "type(donald)"
   ]
  },
  {
   "cell_type": "code",
   "execution_count": 310,
   "metadata": {},
   "outputs": [
    {
     "name": "stdout",
     "output_type": "stream",
     "text": [
      "Donald\n",
      "Cuckoo Clock\n",
      "Pendulum\n"
     ]
    }
   ],
   "source": [
    "print(donald.name)\n",
    "print(donald.style)\n",
    "print(donald.mechanism)"
   ]
  },
  {
   "cell_type": "code",
   "execution_count": 311,
   "metadata": {},
   "outputs": [
    {
     "name": "stdout",
     "output_type": "stream",
     "text": [
      "Tic-toc, Tic-toc goes the clock. This here is Donald's Cuckoo Clock.\n"
     ]
    }
   ],
   "source": [
    "# Call a method on this instance of Clock\n",
    "donald.tic_toc()"
   ]
  },
  {
   "cell_type": "code",
   "execution_count": 312,
   "metadata": {},
   "outputs": [
    {
     "ename": "NameError",
     "evalue": "name 'mechanism' is not defined",
     "output_type": "error",
     "traceback": [
      "\u001b[0;31m---------------------------------------------------------------------------\u001b[0m",
      "\u001b[0;31mNameError\u001b[0m                                 Traceback (most recent call last)",
      "\u001b[0;32m<ipython-input-312-cf48d68cfd60>\u001b[0m in \u001b[0;36m<module>\u001b[0;34m\u001b[0m\n\u001b[0;32m----> 1\u001b[0;31m \u001b[0mdonald\u001b[0m\u001b[0;34m.\u001b[0m\u001b[0mwound\u001b[0m\u001b[0;34m(\u001b[0m\u001b[0;34m)\u001b[0m\u001b[0;34m\u001b[0m\u001b[0;34m\u001b[0m\u001b[0m\n\u001b[0m",
      "\u001b[0;32m<ipython-input-307-9539e2c4e145>\u001b[0m in \u001b[0;36mwound\u001b[0;34m(self)\u001b[0m\n\u001b[1;32m     10\u001b[0m     \u001b[0;32mdef\u001b[0m \u001b[0mwound\u001b[0m\u001b[0;34m(\u001b[0m\u001b[0mself\u001b[0m\u001b[0;34m)\u001b[0m\u001b[0;34m:\u001b[0m\u001b[0;34m\u001b[0m\u001b[0;34m\u001b[0m\u001b[0m\n\u001b[1;32m     11\u001b[0m         \u001b[0;32mif\u001b[0m \u001b[0mself\u001b[0m\u001b[0;34m.\u001b[0m\u001b[0mmechanism\u001b[0m\u001b[0;34m:\u001b[0m\u001b[0;34m\u001b[0m\u001b[0;34m\u001b[0m\u001b[0m\n\u001b[0;32m---> 12\u001b[0;31m             \u001b[0mself\u001b[0m\u001b[0;34m.\u001b[0m\u001b[0mmechanism\u001b[0m \u001b[0;34m=\u001b[0m \u001b[0mmechanism\u001b[0m\u001b[0;34m(\u001b[0m\u001b[0;34m'Pendulum'\u001b[0m\u001b[0;34m)\u001b[0m \u001b[0;31m# or 'Fly wheel')\u001b[0m\u001b[0;34m\u001b[0m\u001b[0;34m\u001b[0m\u001b[0m\n\u001b[0m\u001b[1;32m     13\u001b[0m             \u001b[0mprint\u001b[0m\u001b[0;34m(\u001b[0m\u001b[0;34mf\"When {self.name}'s {self.style} stops ticking, then the clock must be re-wound.\"\u001b[0m\u001b[0;34m)\u001b[0m\u001b[0;34m\u001b[0m\u001b[0;34m\u001b[0m\u001b[0m\n\u001b[1;32m     14\u001b[0m         \u001b[0;32melse\u001b[0m\u001b[0;34m:\u001b[0m\u001b[0;34m\u001b[0m\u001b[0;34m\u001b[0m\u001b[0m\n",
      "\u001b[0;31mNameError\u001b[0m: name 'mechanism' is not defined"
     ]
    }
   ],
   "source": [
    "donald.wound()"
   ]
  },
  {
   "cell_type": "code",
   "execution_count": 313,
   "metadata": {},
   "outputs": [],
   "source": [
    "# Instantiate Tom's alarm clock\n",
    "tom = Clock('Tom', 'Alarm Clock', 'Fly wheel')"
   ]
  },
  {
   "cell_type": "code",
   "execution_count": 285,
   "metadata": {},
   "outputs": [
    {
     "name": "stdout",
     "output_type": "stream",
     "text": [
      "Tic-toc, Tic-toc goes the clock. This here is Tom's Alarm Clock.\n"
     ]
    }
   ],
   "source": [
    "tom.tic_toc()"
   ]
  },
  {
   "cell_type": "code",
   "execution_count": 286,
   "metadata": {},
   "outputs": [
    {
     "name": "stdout",
     "output_type": "stream",
     "text": [
      "When Tom's Alarm Clock stops ticking, then the clock must be re-wound.\n"
     ]
    }
   ],
   "source": [
    "tom.wound()"
   ]
  },
  {
   "cell_type": "code",
   "execution_count": 287,
   "metadata": {},
   "outputs": [],
   "source": [
    "eric = Clock('Eric', 'Wall Clock', 'Quartz')"
   ]
  },
  {
   "cell_type": "code",
   "execution_count": 288,
   "metadata": {},
   "outputs": [
    {
     "name": "stdout",
     "output_type": "stream",
     "text": [
      "Tic-toc, Tic-toc goes the clock. This here is Eric's Wall Clock.\n"
     ]
    }
   ],
   "source": [
    "eric.tic_toc()"
   ]
  },
  {
   "cell_type": "code",
   "execution_count": 289,
   "metadata": {},
   "outputs": [
    {
     "name": "stdout",
     "output_type": "stream",
     "text": [
      "When Eric's Wall Clock stops ticking, then the clock must be re-wound.\n"
     ]
    }
   ],
   "source": [
    "eric.wound()"
   ]
  },
  {
   "cell_type": "code",
   "execution_count": null,
   "metadata": {},
   "outputs": [],
   "source": []
  },
  {
   "cell_type": "code",
   "execution_count": null,
   "metadata": {},
   "outputs": [],
   "source": []
  }
 ],
 "metadata": {
  "kernelspec": {
   "display_name": "Python 3",
   "language": "python",
   "name": "python3"
  },
  "language_info": {
   "codemirror_mode": {
    "name": "ipython",
    "version": 3
   },
   "file_extension": ".py",
   "mimetype": "text/x-python",
   "name": "python",
   "nbconvert_exporter": "python",
   "pygments_lexer": "ipython3",
   "version": "3.7.4"
  }
 },
 "nbformat": 4,
 "nbformat_minor": 4
}
