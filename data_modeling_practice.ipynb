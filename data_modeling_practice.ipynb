{
 "cells": [
  {
   "cell_type": "code",
   "execution_count": 180,
   "metadata": {},
   "outputs": [],
   "source": [
    "import numpy as np\n",
    "import pandas as pd\n",
    "import matplotlib.pyplot as plt"
   ]
  },
  {
   "cell_type": "code",
   "execution_count": 206,
   "metadata": {},
   "outputs": [],
   "source": [
    "class Clock:\n",
    "    def __init__(self, name, style, mechanism):\n",
    "        self.name = name\n",
    "        self.style = style\n",
    "        self.mechanism = mechanism\n",
    "        \n",
    "    def tic_toc(self):\n",
    "        print(f\"Tic-toc, Tic-toc goes the clock. This here is {self.name}'s {self.style}.\")\n",
    "        \n",
    "    def wound(self):\n",
    "        if self.mechanism:\n",
    "            self.mechanism == 'Pendulum' or 'Fly wheel'\n",
    "            print(f\"When {self.name}'s {self.style} stops ticking, then the clock must be re-wound.\")\n",
    "        else:\n",
    "            print(f\"When {self.name}'s {self.style} stops ticking, then the battery must be replaced.\")"
   ]
  },
  {
   "cell_type": "code",
   "execution_count": 207,
   "metadata": {},
   "outputs": [],
   "source": [
    "# Instantiate Donald's cuckoo clock\n",
    "donald = Clock('Donald', 'Cuckoo Clock', 'Pendulum')"
   ]
  },
  {
   "cell_type": "code",
   "execution_count": 208,
   "metadata": {},
   "outputs": [
    {
     "data": {
      "text/plain": [
       "__main__.Clock"
      ]
     },
     "execution_count": 208,
     "metadata": {},
     "output_type": "execute_result"
    }
   ],
   "source": [
    "type(donald)"
   ]
  },
  {
   "cell_type": "code",
   "execution_count": 209,
   "metadata": {},
   "outputs": [
    {
     "name": "stdout",
     "output_type": "stream",
     "text": [
      "Donald\n",
      "Cuckoo Clock\n",
      "Pendulum\n"
     ]
    }
   ],
   "source": [
    "print(donald.name)\n",
    "print(donald.style)\n",
    "print(donald.mechanism)"
   ]
  },
  {
   "cell_type": "code",
   "execution_count": 210,
   "metadata": {},
   "outputs": [
    {
     "name": "stdout",
     "output_type": "stream",
     "text": [
      "Tic-toc, Tic-toc goes the clock. This here is Donald's Cuckoo Clock.\n"
     ]
    }
   ],
   "source": [
    "# Call a method on this instance of Clock\n",
    "donald.tic_toc()"
   ]
  },
  {
   "cell_type": "code",
   "execution_count": 211,
   "metadata": {},
   "outputs": [
    {
     "name": "stdout",
     "output_type": "stream",
     "text": [
      "When Donald's Cuckoo Clock stops ticking, then the clock must be re-wound.\n"
     ]
    }
   ],
   "source": [
    "donald.wound()"
   ]
  },
  {
   "cell_type": "code",
   "execution_count": 212,
   "metadata": {},
   "outputs": [],
   "source": [
    "# Instantiate Tom's alarm clock\n",
    "tom = Clock('Tom', 'Alarm Clock', 'Fly wheel')"
   ]
  },
  {
   "cell_type": "code",
   "execution_count": 213,
   "metadata": {},
   "outputs": [
    {
     "name": "stdout",
     "output_type": "stream",
     "text": [
      "Tic-toc, Tic-toc goes the clock. This here is Tom's Alarm Clock.\n"
     ]
    }
   ],
   "source": [
    "tom.tic_toc()"
   ]
  },
  {
   "cell_type": "code",
   "execution_count": 214,
   "metadata": {},
   "outputs": [
    {
     "name": "stdout",
     "output_type": "stream",
     "text": [
      "When Tom's Alarm Clock stops ticking, then the clock must be re-wound.\n"
     ]
    }
   ],
   "source": [
    "tom.wound()"
   ]
  },
  {
   "cell_type": "code",
   "execution_count": 215,
   "metadata": {},
   "outputs": [],
   "source": [
    "eric = Clock('Eric', 'Wall Clock', 'Quartz')"
   ]
  },
  {
   "cell_type": "code",
   "execution_count": 216,
   "metadata": {},
   "outputs": [
    {
     "name": "stdout",
     "output_type": "stream",
     "text": [
      "Tic-toc, Tic-toc goes the clock. This here is Eric's Wall Clock.\n"
     ]
    }
   ],
   "source": [
    "eric.tic_toc()"
   ]
  },
  {
   "cell_type": "code",
   "execution_count": 217,
   "metadata": {},
   "outputs": [
    {
     "name": "stdout",
     "output_type": "stream",
     "text": [
      "When Eric's Wall Clock stops ticking, then the clock must be re-wound.\n"
     ]
    }
   ],
   "source": [
    "eric.wound()"
   ]
  },
  {
   "cell_type": "code",
   "execution_count": null,
   "metadata": {},
   "outputs": [],
   "source": []
  },
  {
   "cell_type": "code",
   "execution_count": null,
   "metadata": {},
   "outputs": [],
   "source": []
  }
 ],
 "metadata": {
  "kernelspec": {
   "display_name": "Python 3",
   "language": "python",
   "name": "python3"
  },
  "language_info": {
   "codemirror_mode": {
    "name": "ipython",
    "version": 3
   },
   "file_extension": ".py",
   "mimetype": "text/x-python",
   "name": "python",
   "nbconvert_exporter": "python",
   "pygments_lexer": "ipython3",
   "version": "3.7.4"
  }
 },
 "nbformat": 4,
 "nbformat_minor": 4
}
